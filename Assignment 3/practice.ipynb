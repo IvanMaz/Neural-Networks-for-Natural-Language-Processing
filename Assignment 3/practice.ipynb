{
 "cells": [
  {
   "cell_type": "code",
   "execution_count": 1,
   "metadata": {},
   "outputs": [],
   "source": [
    "import random\n",
    "import os\n",
    "import re\n",
    "import sys\n",
    "import pandas as pd\n",
    "import numpy as np\n",
    "from time import time\n",
    "from tqdm import tqdm_notebook\n",
    "from scipy.sparse import csr_matrix, hstack, issparse, coo_matrix\n",
    "from string import punctuation\n",
    "from collections import defaultdict, Counter\n",
    "from copy import deepcopy\n",
    "import matplotlib.pyplot as plt"
   ]
  },
  {
   "cell_type": "markdown",
   "metadata": {},
   "source": [
    "Загружаем данные. У нас есть три выборки: обучающая (train), валидационная (dev) и тестовая (test). На валидационной выборке тестируем классификатор и подбираем гиперпараметры. Результаты работы классификатора на тестовой выборке проверяются на сервере СompAI, метки для нее не предоставляются."
   ]
  },
  {
   "cell_type": "code",
   "execution_count": 2,
   "metadata": {},
   "outputs": [],
   "source": [
    "data_dir = '../FILIMDB'\n",
    "glove_dir = '../GLOVE'"
   ]
  },
  {
   "cell_type": "code",
   "execution_count": 3,
   "metadata": {},
   "outputs": [],
   "source": [
    "def load_data(file_name):\n",
    "    \"\"\"\n",
    "    Reads specified file, returns list of strings\n",
    "    :param file_name: file name in data_dir folder\n",
    "    :returns list of strings\n",
    "    \"\"\"\n",
    "    print('Loading %s' % file_name)\n",
    "    data_path = os.path.join(data_dir, file_name)\n",
    "    with open(data_path, 'r', encoding='utf8') as input_data:\n",
    "        lines = input_data.readlines()\n",
    "        lines = [l.strip() for l in lines]\n",
    "    \n",
    "    print('Loaded %d lines' % len(lines))\n",
    "    return lines"
   ]
  },
  {
   "cell_type": "code",
   "execution_count": 4,
   "metadata": {},
   "outputs": [
    {
     "name": "stdout",
     "output_type": "stream",
     "text": [
      "Loading train.texts\n",
      "Loaded 25000 lines\n",
      "Loading train.labels\n",
      "Loaded 25000 lines\n",
      "Loading dev.texts\n",
      "Loaded 25000 lines\n",
      "Loading dev.labels\n",
      "Loaded 25000 lines\n",
      "Loading test.texts\n",
      "Loaded 10599 lines\n"
     ]
    }
   ],
   "source": [
    "train_texts, train_labels = load_data('train.texts'), load_data('train.labels')\n",
    "dev_texts, dev_labels = load_data('dev.texts'), load_data('dev.labels')\n",
    "test_texts = load_data('test.texts')"
   ]
  },
  {
   "cell_type": "code",
   "execution_count": 5,
   "metadata": {},
   "outputs": [
    {
     "name": "stdout",
     "output_type": "stream",
     "text": [
      "\b\t\u0010 !\"#$%&'()*+,-./0123456789:;<=>?@ABCDEFGHIJKLMNOPQRSTUVWXYZ[\\]^_`abcdefghijklmnopqrstuvwxyz{|}~",
      " ¡¢£¤¦§¨«­®°³´·º»½¾¿ÀÁÃÄÅÈÉÊÕØÜßàáâãäåæçèéêëìíîïðñòóôöøùúûüýō–‘’“”…₤\n"
     ]
    }
   ],
   "source": [
    "char_set = set(ch for review in train_texts for ch in review)\n",
    "sorted_chars = sorted(list(char_set))\n",
    "print(''.join(sorted_chars))"
   ]
  },
  {
   "cell_type": "markdown",
   "metadata": {},
   "source": [
    "# A"
   ]
  },
  {
   "cell_type": "code",
   "execution_count": 6,
   "metadata": {},
   "outputs": [],
   "source": [
    "def tokenize(text):\n",
    "    \"\"\"\n",
    "    Preprocesses text and split it into the list of words\n",
    "    :param: text(str): movie review\n",
    "    \"\"\"\n",
    "    # YOUR CODE HERE\n",
    "    return re.findall('[\\w]+', text.lower())"
   ]
  },
  {
   "cell_type": "code",
   "execution_count": 7,
   "metadata": {},
   "outputs": [],
   "source": [
    "tokenized_train_texts = [tokenize(r) for r in train_texts]\n",
    "tokenized_dev_texts = [tokenize(r) for r in dev_texts]\n",
    "tokenized_test_texts = [tokenize(r) for r in test_texts]"
   ]
  },
  {
   "cell_type": "code",
   "execution_count": 8,
   "metadata": {},
   "outputs": [],
   "source": [
    "y_train = np.array([(lambda l: 1 if l=='pos' else 0)(l) for l in train_labels])\n",
    "y_dev = np.array([(lambda l: 1 if l=='pos' else 0)(l) for l in dev_labels])"
   ]
  },
  {
   "cell_type": "code",
   "execution_count": 9,
   "metadata": {},
   "outputs": [
    {
     "name": "stdout",
     "output_type": "stream",
     "text": [
      "1. Ответ 1: размер словаря - 74739\n"
     ]
    }
   ],
   "source": [
    "def get_vocab():\n",
    "    with open(\"../stopwords.txt\", \"r\") as f:\n",
    "        STOPWORDS = map(lambda x: x.strip(), f.readlines())\n",
    "\n",
    "    STOPWORDS = set(STOPWORDS)\n",
    "\n",
    "    vocab = []\n",
    "\n",
    "    for txt in tokenized_train_texts:\n",
    "        vocab.extend([w for w in txt if w not in STOPWORDS])\n",
    "\n",
    "    vocab = set(vocab) # for faster searching\n",
    "    print('1. Ответ 1: размер словаря - %d' % len(vocab))\n",
    "    return vocab\n",
    "vocab = get_vocab()"
   ]
  },
  {
   "cell_type": "markdown",
   "metadata": {},
   "source": [
    "# B"
   ]
  },
  {
   "cell_type": "code",
   "execution_count": 10,
   "metadata": {},
   "outputs": [],
   "source": [
    "def load_glove(dim=50):\n",
    "    word2idx = {}\n",
    "    idx2word = {}\n",
    "    vecs = []\n",
    "    file_name = 'glove.6B.{}d.txt'.format(dim)\n",
    "    glove_path = os.path.join(glove_dir, file_name)\n",
    "    for idx, line in enumerate(open(glove_path, 'r', encoding='utf8')):\n",
    "        word, vec = line.split(' ', 1)\n",
    "        word2idx[word] = idx\n",
    "        idx2word[idx] = word\n",
    "        vecs.append(np.array(list(map(float, vec.split()))))\n",
    "    return word2idx, idx2word, np.array(vecs)"
   ]
  },
  {
   "cell_type": "code",
   "execution_count": 11,
   "metadata": {},
   "outputs": [
    {
     "data": {
      "text/plain": [
       "(400000, 400000, (400000, 300))"
      ]
     },
     "execution_count": 11,
     "metadata": {},
     "output_type": "execute_result"
    }
   ],
   "source": [
    "word2idx, idx2word, glove_vec = load_glove(300)\n",
    "len(glove_vec), len(idx2word), glove_vec.shape"
   ]
  },
  {
   "cell_type": "code",
   "execution_count": 12,
   "metadata": {},
   "outputs": [],
   "source": [
    "def scalar(vec1, vec2):\n",
    "    return np.dot(vec1, vec2).sum()\n",
    "\n",
    "def cosine(vec1, vec2):\n",
    "    return scalar(vec1, vec2) / np.sqrt(np.square(vec1).sum()) / np.sqrt(np.square(vec2).sum())\n",
    "\n",
    "def scalar_dist(matr, vec):\n",
    "    return np.dot(matr, vec)\n",
    "\n",
    "def cosine_dist(matr, vec):\n",
    "    return np.dot(matr, vec) / np.sqrt(np.square(vec).sum()) / np.sqrt(np.square(matr).sum(1))"
   ]
  },
  {
   "cell_type": "code",
   "execution_count": 13,
   "metadata": {},
   "outputs": [],
   "source": [
    "df = pd.DataFrame(index=range(25), columns=['king_s', 'king_c', \n",
    "                                            'queen_s', 'queen_c', \n",
    "                                            'horror_s', 'horror_c', \n",
    "                                            'comedy_s', 'comedy_c',\n",
    "                                            'actor_s', 'actor_c',\n",
    "                                            'fantastic_s', 'fantastic_c',\n",
    "                                            'awful_s', 'awful_c',\n",
    "                                            'masterpiece_s', 'masterpiece_c',\n",
    "                                            'film_s', 'film_c',\n",
    "                                            'script_s', 'script_c',])"
   ]
  },
  {
   "cell_type": "code",
   "execution_count": 14,
   "metadata": {},
   "outputs": [
    {
     "data": {
      "text/html": [
       "<div>\n",
       "<style scoped>\n",
       "    .dataframe tbody tr th:only-of-type {\n",
       "        vertical-align: middle;\n",
       "    }\n",
       "\n",
       "    .dataframe tbody tr th {\n",
       "        vertical-align: top;\n",
       "    }\n",
       "\n",
       "    .dataframe thead th {\n",
       "        text-align: right;\n",
       "    }\n",
       "</style>\n",
       "<table border=\"1\" class=\"dataframe\">\n",
       "  <thead>\n",
       "    <tr style=\"text-align: right;\">\n",
       "      <th></th>\n",
       "      <th>king_s</th>\n",
       "      <th>king_c</th>\n",
       "      <th>queen_s</th>\n",
       "      <th>queen_c</th>\n",
       "      <th>horror_s</th>\n",
       "      <th>horror_c</th>\n",
       "      <th>comedy_s</th>\n",
       "      <th>comedy_c</th>\n",
       "      <th>actor_s</th>\n",
       "      <th>actor_c</th>\n",
       "      <th>fantastic_s</th>\n",
       "      <th>fantastic_c</th>\n",
       "      <th>awful_s</th>\n",
       "      <th>awful_c</th>\n",
       "      <th>masterpiece_s</th>\n",
       "      <th>masterpiece_c</th>\n",
       "      <th>film_s</th>\n",
       "      <th>film_c</th>\n",
       "      <th>script_s</th>\n",
       "      <th>script_c</th>\n",
       "    </tr>\n",
       "  </thead>\n",
       "  <tbody>\n",
       "    <tr>\n",
       "      <th>0</th>\n",
       "      <td>(king, 49.11)</td>\n",
       "      <td>(king, 1.0)</td>\n",
       "      <td>(queen, 48.04)</td>\n",
       "      <td>(queen, 1.0)</td>\n",
       "      <td>(horror, 45.78)</td>\n",
       "      <td>(horror, 1.0)</td>\n",
       "      <td>(comedy, 51.85)</td>\n",
       "      <td>(comedy, 1.0)</td>\n",
       "      <td>(actor, 46.72)</td>\n",
       "      <td>(actor, 1.0)</td>\n",
       "      <td>(fantastic, 33.34)</td>\n",
       "      <td>(fantastic, 1.0)</td>\n",
       "      <td>(awful, 29.71)</td>\n",
       "      <td>(awful, 1.0)</td>\n",
       "      <td>(masterpiece, 33.12)</td>\n",
       "      <td>(masterpiece, 1.0)</td>\n",
       "      <td>(film, 50.72)</td>\n",
       "      <td>(film, 1.0)</td>\n",
       "      <td>(script, 42.25)</td>\n",
       "      <td>(script, 1.0)</td>\n",
       "    </tr>\n",
       "    <tr>\n",
       "      <th>1</th>\n",
       "      <td>(queen, 30.78)</td>\n",
       "      <td>(queen, 0.63)</td>\n",
       "      <td>(princess, 32.08)</td>\n",
       "      <td>(elizabeth, 0.68)</td>\n",
       "      <td>(thriller, 28.46)</td>\n",
       "      <td>(thriller, 0.6)</td>\n",
       "      <td>(comedies, 36.91)</td>\n",
       "      <td>(comedies, 0.72)</td>\n",
       "      <td>(actress, 38.47)</td>\n",
       "      <td>(actress, 0.73)</td>\n",
       "      <td>(incredible, 24.59)</td>\n",
       "      <td>(incredible, 0.74)</td>\n",
       "      <td>(horrible, 27.09)</td>\n",
       "      <td>(horrible, 0.83)</td>\n",
       "      <td>(masterpieces, 23.27)</td>\n",
       "      <td>(masterpieces, 0.69)</td>\n",
       "      <td>(films, 41.92)</td>\n",
       "      <td>(movie, 0.86)</td>\n",
       "      <td>(screenplay, 29.39)</td>\n",
       "      <td>(scripts, 0.76)</td>\n",
       "    </tr>\n",
       "    <tr>\n",
       "      <th>2</th>\n",
       "      <td>(prince, 30.54)</td>\n",
       "      <td>(prince, 0.62)</td>\n",
       "      <td>(king, 30.78)</td>\n",
       "      <td>(princess, 0.64)</td>\n",
       "      <td>(fiction, 27.1)</td>\n",
       "      <td>(movies, 0.59)</td>\n",
       "      <td>(sitcom, 34.85)</td>\n",
       "      <td>(sitcom, 0.71)</td>\n",
       "      <td>(starring, 33.16)</td>\n",
       "      <td>(starring, 0.68)</td>\n",
       "      <td>(amazing, 24.29)</td>\n",
       "      <td>(amazing, 0.73)</td>\n",
       "      <td>(terrible, 25.61)</td>\n",
       "      <td>(terrible, 0.79)</td>\n",
       "      <td>(picasso, 18.05)</td>\n",
       "      <td>(masterwork, 0.6)</td>\n",
       "      <td>(movie, 39.81)</td>\n",
       "      <td>(films, 0.84)</td>\n",
       "      <td>(scripts, 29.2)</td>\n",
       "      <td>(screenplay, 0.7)</td>\n",
       "    </tr>\n",
       "    <tr>\n",
       "      <th>3</th>\n",
       "      <td>(throne, 29.38)</td>\n",
       "      <td>(monarch, 0.59)</td>\n",
       "      <td>(elizabeth, 28.69)</td>\n",
       "      <td>(king, 0.63)</td>\n",
       "      <td>(film, 26.95)</td>\n",
       "      <td>(movie, 0.58)</td>\n",
       "      <td>(starring, 34.63)</td>\n",
       "      <td>(drama, 0.71)</td>\n",
       "      <td>(comedian, 31.65)</td>\n",
       "      <td>(actors, 0.67)</td>\n",
       "      <td>(wonderful, 22.94)</td>\n",
       "      <td>(wonderful, 0.7)</td>\n",
       "      <td>(dreadful, 20.4)</td>\n",
       "      <td>(dreadful, 0.71)</td>\n",
       "      <td>(baroque, 17.85)</td>\n",
       "      <td>(acclaimed, 0.48)</td>\n",
       "      <td>(movies, 34.24)</td>\n",
       "      <td>(movies, 0.72)</td>\n",
       "      <td>(screenwriter, 24.3)</td>\n",
       "      <td>(written, 0.61)</td>\n",
       "    </tr>\n",
       "    <tr>\n",
       "      <th>4</th>\n",
       "      <td>(emperor, 28.56)</td>\n",
       "      <td>(kingdom, 0.58)</td>\n",
       "      <td>(royal, 27.89)</td>\n",
       "      <td>(monarch, 0.58)</td>\n",
       "      <td>(films, 26.92)</td>\n",
       "      <td>(slasher, 0.57)</td>\n",
       "      <td>(drama, 33.09)</td>\n",
       "      <td>(starring, 0.68)</td>\n",
       "      <td>(actors, 29.58)</td>\n",
       "      <td>(comedian, 0.66)</td>\n",
       "      <td>(unbelievable, 22.19)</td>\n",
       "      <td>(terrific, 0.67)</td>\n",
       "      <td>(unbelievable, 20.34)</td>\n",
       "      <td>(horrendous, 0.64)</td>\n",
       "      <td>(painting, 17.5)</td>\n",
       "      <td>(cinematic, 0.48)</td>\n",
       "      <td>(starring, 33.04)</td>\n",
       "      <td>(directed, 0.68)</td>\n",
       "      <td>(written, 24.17)</td>\n",
       "      <td>(writing, 0.6)</td>\n",
       "    </tr>\n",
       "    <tr>\n",
       "      <th>5</th>\n",
       "      <td>(gyanendra, 28.34)</td>\n",
       "      <td>(throne, 0.56)</td>\n",
       "      <td>(throne, 26.42)</td>\n",
       "      <td>(royal, 0.54)</td>\n",
       "      <td>(movies, 26.78)</td>\n",
       "      <td>(films, 0.57)</td>\n",
       "      <td>(film, 31.56)</td>\n",
       "      <td>(movie, 0.66)</td>\n",
       "      <td>(film, 28.91)</td>\n",
       "      <td>(starred, 0.64)</td>\n",
       "      <td>(exciting, 20.43)</td>\n",
       "      <td>(unbelievable, 0.65)</td>\n",
       "      <td>(pretty, 19.97)</td>\n",
       "      <td>(unbelievable, 0.63)</td>\n",
       "      <td>(modernist, 17.46)</td>\n",
       "      <td>(modernist, 0.47)</td>\n",
       "      <td>(directed, 31.58)</td>\n",
       "      <td>(documentary, 0.66)</td>\n",
       "      <td>(writing, 23.53)</td>\n",
       "      <td>(screenwriter, 0.55)</td>\n",
       "    </tr>\n",
       "    <tr>\n",
       "      <th>6</th>\n",
       "      <td>(kingdom, 26.51)</td>\n",
       "      <td>(ii, 0.56)</td>\n",
       "      <td>(monarch, 25.66)</td>\n",
       "      <td>(majesty, 0.54)</td>\n",
       "      <td>(movie, 25.63)</td>\n",
       "      <td>(fiction, 0.57)</td>\n",
       "      <td>(comedian, 31.48)</td>\n",
       "      <td>(starred, 0.64)</td>\n",
       "      <td>(screenwriter, 28.54)</td>\n",
       "      <td>(screenwriter, 0.62)</td>\n",
       "      <td>(terrific, 20.18)</td>\n",
       "      <td>(awesome, 0.59)</td>\n",
       "      <td>(ugly, 19.92)</td>\n",
       "      <td>(pretty, 0.62)</td>\n",
       "      <td>(anthology, 17.38)</td>\n",
       "      <td>(painting, 0.45)</td>\n",
       "      <td>(comedy, 31.56)</td>\n",
       "      <td>(starring, 0.65)</td>\n",
       "      <td>(film, 23.21)</td>\n",
       "      <td>(movie, 0.51)</td>\n",
       "    </tr>\n",
       "    <tr>\n",
       "      <th>7</th>\n",
       "      <td>(ii, 26.47)</td>\n",
       "      <td>(iii, 0.55)</td>\n",
       "      <td>(empress, 25.14)</td>\n",
       "      <td>(victoria, 0.52)</td>\n",
       "      <td>(slasher, 24.68)</td>\n",
       "      <td>(fantasy, 0.56)</td>\n",
       "      <td>(movie, 30.87)</td>\n",
       "      <td>(comedian, 0.63)</td>\n",
       "      <td>(comedy, 27.51)</td>\n",
       "      <td>(movie, 0.6)</td>\n",
       "      <td>(awesome, 19.1)</td>\n",
       "      <td>(marvelous, 0.58)</td>\n",
       "      <td>(horrendous, 19.59)</td>\n",
       "      <td>(ugly, 0.61)</td>\n",
       "      <td>(expressionist, 17.3)</td>\n",
       "      <td>(monumental, 0.45)</td>\n",
       "      <td>(documentary, 31.21)</td>\n",
       "      <td>(cinema, 0.64)</td>\n",
       "      <td>(cursive, 22.13)</td>\n",
       "      <td>(film, 0.5)</td>\n",
       "    </tr>\n",
       "    <tr>\n",
       "      <th>8</th>\n",
       "      <td>(monarch, 26.33)</td>\n",
       "      <td>(crown, 0.52)</td>\n",
       "      <td>(margrethe, 24.65)</td>\n",
       "      <td>(throne, 0.51)</td>\n",
       "      <td>(fantasy, 24.62)</td>\n",
       "      <td>(sci-fi, 0.56)</td>\n",
       "      <td>(films, 29.95)</td>\n",
       "      <td>(comedic, 0.62)</td>\n",
       "      <td>(movie, 26.68)</td>\n",
       "      <td>(film, 0.59)</td>\n",
       "      <td>(superb, 17.62)</td>\n",
       "      <td>(exciting, 0.58)</td>\n",
       "      <td>(appalling, 19.57)</td>\n",
       "      <td>(really, 0.6)</td>\n",
       "      <td>(michelangelo, 17.1)</td>\n",
       "      <td>(genre, 0.45)</td>\n",
       "      <td>(cinema, 29.7)</td>\n",
       "      <td>(screenplay, 0.63)</td>\n",
       "      <td>(alphabet, 21.92)</td>\n",
       "      <td>(write, 0.5)</td>\n",
       "    </tr>\n",
       "    <tr>\n",
       "      <th>9</th>\n",
       "      <td>(bhumibol, 26.2)</td>\n",
       "      <td>(reign, 0.52)</td>\n",
       "      <td>(consort, 24.55)</td>\n",
       "      <td>(lady, 0.5)</td>\n",
       "      <td>(genre, 24.28)</td>\n",
       "      <td>(film, 0.56)</td>\n",
       "      <td>(comic, 29.77)</td>\n",
       "      <td>(film, 0.62)</td>\n",
       "      <td>(starred, 26.42)</td>\n",
       "      <td>(musician, 0.58)</td>\n",
       "      <td>(absolutely, 17.53)</td>\n",
       "      <td>(phenomenal, 0.57)</td>\n",
       "      <td>(disgusting, 18.95)</td>\n",
       "      <td>(lousy, 0.6)</td>\n",
       "      <td>(epic, 16.88)</td>\n",
       "      <td>(magnificent, 0.45)</td>\n",
       "      <td>(bollywood, 29.07)</td>\n",
       "      <td>(drama, 0.62)</td>\n",
       "      <td>(movie, 21.79)</td>\n",
       "      <td>(screenplays, 0.49)</td>\n",
       "    </tr>\n",
       "  </tbody>\n",
       "</table>\n",
       "</div>"
      ],
      "text/plain": [
       "               king_s           king_c             queen_s            queen_c  \\\n",
       "0       (king, 49.11)      (king, 1.0)      (queen, 48.04)       (queen, 1.0)   \n",
       "1      (queen, 30.78)    (queen, 0.63)   (princess, 32.08)  (elizabeth, 0.68)   \n",
       "2     (prince, 30.54)   (prince, 0.62)       (king, 30.78)   (princess, 0.64)   \n",
       "3     (throne, 29.38)  (monarch, 0.59)  (elizabeth, 28.69)       (king, 0.63)   \n",
       "4    (emperor, 28.56)  (kingdom, 0.58)      (royal, 27.89)    (monarch, 0.58)   \n",
       "5  (gyanendra, 28.34)   (throne, 0.56)     (throne, 26.42)      (royal, 0.54)   \n",
       "6    (kingdom, 26.51)       (ii, 0.56)    (monarch, 25.66)    (majesty, 0.54)   \n",
       "7         (ii, 26.47)      (iii, 0.55)    (empress, 25.14)   (victoria, 0.52)   \n",
       "8    (monarch, 26.33)    (crown, 0.52)  (margrethe, 24.65)     (throne, 0.51)   \n",
       "9    (bhumibol, 26.2)    (reign, 0.52)    (consort, 24.55)        (lady, 0.5)   \n",
       "\n",
       "            horror_s         horror_c           comedy_s          comedy_c  \\\n",
       "0    (horror, 45.78)    (horror, 1.0)    (comedy, 51.85)     (comedy, 1.0)   \n",
       "1  (thriller, 28.46)  (thriller, 0.6)  (comedies, 36.91)  (comedies, 0.72)   \n",
       "2    (fiction, 27.1)   (movies, 0.59)    (sitcom, 34.85)    (sitcom, 0.71)   \n",
       "3      (film, 26.95)    (movie, 0.58)  (starring, 34.63)     (drama, 0.71)   \n",
       "4     (films, 26.92)  (slasher, 0.57)     (drama, 33.09)  (starring, 0.68)   \n",
       "5    (movies, 26.78)    (films, 0.57)      (film, 31.56)     (movie, 0.66)   \n",
       "6     (movie, 25.63)  (fiction, 0.57)  (comedian, 31.48)   (starred, 0.64)   \n",
       "7   (slasher, 24.68)  (fantasy, 0.56)     (movie, 30.87)  (comedian, 0.63)   \n",
       "8   (fantasy, 24.62)   (sci-fi, 0.56)     (films, 29.95)   (comedic, 0.62)   \n",
       "9     (genre, 24.28)     (film, 0.56)     (comic, 29.77)      (film, 0.62)   \n",
       "\n",
       "                 actor_s               actor_c            fantastic_s  \\\n",
       "0         (actor, 46.72)          (actor, 1.0)     (fantastic, 33.34)   \n",
       "1       (actress, 38.47)       (actress, 0.73)    (incredible, 24.59)   \n",
       "2      (starring, 33.16)      (starring, 0.68)       (amazing, 24.29)   \n",
       "3      (comedian, 31.65)        (actors, 0.67)     (wonderful, 22.94)   \n",
       "4        (actors, 29.58)      (comedian, 0.66)  (unbelievable, 22.19)   \n",
       "5          (film, 28.91)       (starred, 0.64)      (exciting, 20.43)   \n",
       "6  (screenwriter, 28.54)  (screenwriter, 0.62)      (terrific, 20.18)   \n",
       "7        (comedy, 27.51)          (movie, 0.6)        (awesome, 19.1)   \n",
       "8         (movie, 26.68)          (film, 0.59)        (superb, 17.62)   \n",
       "9       (starred, 26.42)      (musician, 0.58)    (absolutely, 17.53)   \n",
       "\n",
       "            fantastic_c                awful_s               awful_c  \\\n",
       "0      (fantastic, 1.0)         (awful, 29.71)          (awful, 1.0)   \n",
       "1    (incredible, 0.74)      (horrible, 27.09)      (horrible, 0.83)   \n",
       "2       (amazing, 0.73)      (terrible, 25.61)      (terrible, 0.79)   \n",
       "3      (wonderful, 0.7)       (dreadful, 20.4)      (dreadful, 0.71)   \n",
       "4      (terrific, 0.67)  (unbelievable, 20.34)    (horrendous, 0.64)   \n",
       "5  (unbelievable, 0.65)        (pretty, 19.97)  (unbelievable, 0.63)   \n",
       "6       (awesome, 0.59)          (ugly, 19.92)        (pretty, 0.62)   \n",
       "7     (marvelous, 0.58)    (horrendous, 19.59)          (ugly, 0.61)   \n",
       "8      (exciting, 0.58)     (appalling, 19.57)         (really, 0.6)   \n",
       "9    (phenomenal, 0.57)    (disgusting, 18.95)          (lousy, 0.6)   \n",
       "\n",
       "           masterpiece_s         masterpiece_c                film_s  \\\n",
       "0   (masterpiece, 33.12)    (masterpiece, 1.0)         (film, 50.72)   \n",
       "1  (masterpieces, 23.27)  (masterpieces, 0.69)        (films, 41.92)   \n",
       "2       (picasso, 18.05)     (masterwork, 0.6)        (movie, 39.81)   \n",
       "3       (baroque, 17.85)     (acclaimed, 0.48)       (movies, 34.24)   \n",
       "4       (painting, 17.5)     (cinematic, 0.48)     (starring, 33.04)   \n",
       "5     (modernist, 17.46)     (modernist, 0.47)     (directed, 31.58)   \n",
       "6     (anthology, 17.38)      (painting, 0.45)       (comedy, 31.56)   \n",
       "7  (expressionist, 17.3)    (monumental, 0.45)  (documentary, 31.21)   \n",
       "8   (michelangelo, 17.1)         (genre, 0.45)        (cinema, 29.7)   \n",
       "9          (epic, 16.88)   (magnificent, 0.45)    (bollywood, 29.07)   \n",
       "\n",
       "                film_c              script_s              script_c  \n",
       "0          (film, 1.0)       (script, 42.25)         (script, 1.0)  \n",
       "1        (movie, 0.86)   (screenplay, 29.39)       (scripts, 0.76)  \n",
       "2        (films, 0.84)       (scripts, 29.2)     (screenplay, 0.7)  \n",
       "3       (movies, 0.72)  (screenwriter, 24.3)       (written, 0.61)  \n",
       "4     (directed, 0.68)      (written, 24.17)        (writing, 0.6)  \n",
       "5  (documentary, 0.66)      (writing, 23.53)  (screenwriter, 0.55)  \n",
       "6     (starring, 0.65)         (film, 23.21)         (movie, 0.51)  \n",
       "7       (cinema, 0.64)      (cursive, 22.13)           (film, 0.5)  \n",
       "8   (screenplay, 0.63)     (alphabet, 21.92)          (write, 0.5)  \n",
       "9        (drama, 0.62)        (movie, 21.79)   (screenplays, 0.49)  "
      ]
     },
     "execution_count": 14,
     "metadata": {},
     "output_type": "execute_result"
    }
   ],
   "source": [
    "for word in ['king', 'queen', 'horror', 'comedy', 'actor', 'fantastic', 'awful', 'masterpiece', 'film', 'script']:\n",
    "    vec = glove_vec[word2idx[word]]\n",
    "    dd = scalar_dist(glove_vec, vec)\n",
    "    for i, idx in enumerate(np.argsort(dd)[:-26:-1]):\n",
    "        df.loc[i][word+'_s'] = idx2word[idx], dd[idx].round(2)\n",
    "\n",
    "for word in ['king', 'queen', 'horror', 'comedy', 'actor', 'fantastic', 'awful', 'masterpiece', 'film', 'script']:\n",
    "    vec = glove_vec[word2idx[word]]\n",
    "    dd = cosine_dist(glove_vec, vec)\n",
    "    for i, idx in enumerate(np.argsort(dd)[:-26:-1]):\n",
    "        df.loc[i][word+'_c'] = idx2word[idx], dd[idx].round(2)\n",
    "df.head(10)"
   ]
  },
  {
   "cell_type": "markdown",
   "metadata": {},
   "source": [
    "# C"
   ]
  },
  {
   "cell_type": "code",
   "execution_count": 15,
   "metadata": {},
   "outputs": [],
   "source": [
    "def clean(txt):\n",
    "    return [word for word in txt if word in word2idx and word in vocab]"
   ]
  },
  {
   "cell_type": "code",
   "execution_count": 16,
   "metadata": {},
   "outputs": [],
   "source": [
    "cleaned_train_texts = [clean(r) for r in tokenized_train_texts]\n",
    "cleaned_dev_texts = [clean(r) for r in tokenized_dev_texts]\n",
    "cleaned_test_texts = [clean(r) for r in tokenized_test_texts]"
   ]
  },
  {
   "cell_type": "markdown",
   "metadata": {},
   "source": [
    "# D"
   ]
  },
  {
   "cell_type": "code",
   "execution_count": 17,
   "metadata": {},
   "outputs": [],
   "source": [
    "def vectorize(txt):\n",
    "    if len(txt):\n",
    "        return sum([glove_vec[word2idx[word]] for word in txt]) / len(txt)\n",
    "    else:\n",
    "        return np.zeros(glove_vec.shape[1])"
   ]
  },
  {
   "cell_type": "markdown",
   "metadata": {},
   "source": [
    "# E"
   ]
  },
  {
   "cell_type": "code",
   "execution_count": 18,
   "metadata": {},
   "outputs": [],
   "source": [
    "vecs_train_texts = np.array([vectorize(r) for r in cleaned_train_texts])\n",
    "vecs_dev_texts = np.array([vectorize(r) for r in cleaned_dev_texts])\n",
    "vecs_test_texts = np.array([vectorize(r) for r in cleaned_test_texts])"
   ]
  },
  {
   "cell_type": "code",
   "execution_count": 19,
   "metadata": {},
   "outputs": [
    {
     "data": {
      "text/plain": [
       "(22078, 14201)"
      ]
     },
     "execution_count": 19,
     "metadata": {},
     "output_type": "execute_result"
    }
   ],
   "source": [
    "errs = [word for txt in tokenized_train_texts for word in txt if word not in word2idx]\n",
    "len(errs), len(set(errs))"
   ]
  },
  {
   "cell_type": "code",
   "execution_count": 20,
   "metadata": {},
   "outputs": [
    {
     "data": {
      "text/plain": [
       "['overruse',\n",
       " 'gautum',\n",
       " 'snoozefest',\n",
       " 'heartpounding',\n",
       " 'verucci',\n",
       " 'innane',\n",
       " 'mstifyed',\n",
       " 'riiiiiike',\n",
       " 'holdall',\n",
       " 'gujerati',\n",
       " 'candyshack',\n",
       " 'silverbears',\n",
       " 'airphone',\n",
       " 'frogballs',\n",
       " 'magestic',\n",
       " 'mamers',\n",
       " 'delivere',\n",
       " 'implausiblities',\n",
       " 'houswives',\n",
       " 'vivaciousness']"
      ]
     },
     "execution_count": 20,
     "metadata": {},
     "output_type": "execute_result"
    }
   ],
   "source": [
    "list(set(errs))[:20]"
   ]
  },
  {
   "cell_type": "markdown",
   "metadata": {},
   "source": [
    "# F - G"
   ]
  },
  {
   "cell_type": "code",
   "execution_count": 21,
   "metadata": {},
   "outputs": [],
   "source": [
    "class SGD:\n",
    "    def __init__(self, parameters):\n",
    "        self.parameters = parameters\n",
    "\n",
    "    def step(self, grads, learning_rate):\n",
    "        for i in range(len(grads)):\n",
    "            self.parameters[i] -= learning_rate * grads[i]\n",
    "\n",
    "class Linear:\n",
    "    def __init__(self, input_size, output_size, alpha):\n",
    "        self.W = np.random.randn(input_size, output_size) * np.sqrt(2 / input_size)\n",
    "        self.b = np.zeros(output_size)\n",
    "        self.alpha = alpha\n",
    "\n",
    "        self.optimizer = SGD([self.W, self.b])\n",
    "\n",
    "    def forward(self, X):\n",
    "        self.X = X\n",
    "        return X.dot(self.W)+self.b\n",
    "\n",
    "    def backward(self, dLdy):\n",
    "        self.dLdW = self.X.T.dot(dLdy) + self.alpha*self.W\n",
    "        self.dLdb = dLdy.sum(0)\n",
    "        self.dLdx = dLdy.dot(self.W.T)\n",
    "        return self.dLdx\n",
    "\n",
    "    def step(self, learning_rate):\n",
    "        self.optimizer.step([self.dLdW, self.dLdb], learning_rate)\n",
    "\n",
    "class Tanh:\n",
    "    def __init__(self):\n",
    "        pass\n",
    "    \n",
    "    def forward(self, X):\n",
    "        self.s = np.tanh(X)\n",
    "        return self.s\n",
    "    \n",
    "    def backward(self, dLdy):\n",
    "        return (1-self.s*self.s)*dLdy\n",
    "    \n",
    "    def step(self, learning_rate):\n",
    "        pass\n",
    "\n",
    "class Sigmoid:\n",
    "    def __init__(self):\n",
    "        pass\n",
    "    \n",
    "    def forward(self, X):\n",
    "        self.s = 1./(1+np.exp(-X))\n",
    "        return self.s\n",
    "    \n",
    "    def backward(self, dLdy):\n",
    "        return self.s*(1-self.s)*dLdy\n",
    "    \n",
    "    def step(self, learning_rate):\n",
    "        pass\n",
    "\n",
    "class ReLU:\n",
    "    def __init__(self):\n",
    "        pass\n",
    "    \n",
    "    def forward(self, X):\n",
    "        self.X = X\n",
    "        return X.clip(min=0)\n",
    "    \n",
    "    def backward(self, dLdy):\n",
    "        return dLdy * (np.heaviside(self.X, 0))\n",
    "    \n",
    "    def step(self, learning_rate):\n",
    "        pass\n",
    "\n",
    "class ELU:\n",
    "    def __init__(self):\n",
    "        pass\n",
    "    \n",
    "    def forward(self, X):\n",
    "        self.alpha = 1.0\n",
    "        self.X = X\n",
    "        pos = X.clip(min=0)\n",
    "        self.neg = X.clip(max=0)\n",
    "        return pos + self.alpha * (np.exp(self.neg) - 1)\n",
    "    \n",
    "    def backward(self, dLdy):\n",
    "        pos = np.heaviside(self.X, 0)\n",
    "        return dLdy * (pos + self.alpha * np.exp(self.neg))\n",
    "    \n",
    "    def step(self, learning_rate):\n",
    "        pass\n",
    "\n",
    "class NLLLoss:\n",
    "    def __init__(self, alpha):\n",
    "        self.alpha = alpha\n",
    "    \n",
    "    def forward(self, X, y, modules):\n",
    "        self.p = np.exp(X)\n",
    "        self.p /= self.p.sum(1, keepdims=True)\n",
    "        self.y = np.zeros((X.shape[0], X.shape[1]))\n",
    "        self.y[np.arange(X.shape[0]), y] = 1\n",
    "        self.X = X\n",
    "        \n",
    "        L2 = 0\n",
    "        for m in modules:\n",
    "            if m.__class__.__name__ == \"Linear\":\n",
    "                L2 += self.alpha*(np.sum(np.square(m.W)))\n",
    "        \n",
    "        return -(np.log(self.p)*self.y).sum(1).mean(0) + L2\n",
    "    \n",
    "    def backward(self):        \n",
    "        return (self.p - self.y) / self.X.shape[0]\n",
    "\n",
    "class NeuralNetwork:\n",
    "    def __init__(self, modules):\n",
    "        self.modules = modules\n",
    "    \n",
    "    def forward(self, X):\n",
    "        for m in self.modules:\n",
    "            X = m.forward(X)\n",
    "        \n",
    "        return X, self.modules\n",
    "    \n",
    "    def backward(self, dLdy):\n",
    "        for m in self.modules[::-1]:\n",
    "            dLdy = m.backward(dLdy)\n",
    "        \n",
    "    \n",
    "    def step(self, learning_rate):\n",
    "        for m in self.modules:\n",
    "            m.step(learning_rate)"
   ]
  },
  {
   "cell_type": "markdown",
   "metadata": {},
   "source": [
    "# H"
   ]
  },
  {
   "cell_type": "code",
   "execution_count": 22,
   "metadata": {},
   "outputs": [],
   "source": [
    "def check_gradient(func, X, gradient):\n",
    "    numerical_gradient = np.zeros(X.shape)\n",
    "    eps = 1e-5\n",
    "    for i in range(X.shape[0]):\n",
    "        for j in range(X.shape[1]):\n",
    "            X[i, j] += eps\n",
    "            y1 = func(X)\n",
    "            X[i, j] -= 2*eps\n",
    "            y2 = func(X)\n",
    "            X[i, j] += eps\n",
    "            numerical_gradient[i, j] = (y1-y2)/2/eps\n",
    "    \n",
    "    print (np.abs(numerical_gradient - gradient).max())"
   ]
  },
  {
   "cell_type": "markdown",
   "metadata": {},
   "source": [
    "Проверка $\\frac{\\partial L}{\\partial x}$"
   ]
  },
  {
   "cell_type": "code",
   "execution_count": 23,
   "metadata": {},
   "outputs": [
    {
     "name": "stdout",
     "output_type": "stream",
     "text": [
      "1.2796785853197434e-10\n"
     ]
    }
   ],
   "source": [
    "lin = Linear(10, 2, 1e-5)\n",
    "X = np.ones((5, 10))\n",
    "y = lin.forward(X)\n",
    "func = lambda x: lin.forward(x).sum()\n",
    "dLdy = np.ones((5, 2))\n",
    "gradient = lin.backward(dLdy)\n",
    "check_gradient(func, X, gradient)"
   ]
  },
  {
   "cell_type": "markdown",
   "metadata": {},
   "source": [
    "Проверка $\\frac{\\partial L}{\\partial w}$"
   ]
  },
  {
   "cell_type": "code",
   "execution_count": 24,
   "metadata": {},
   "outputs": [
    {
     "name": "stdout",
     "output_type": "stream",
     "text": [
      "9.581296897209768e-06\n"
     ]
    }
   ],
   "source": [
    "lin = Linear(10, 2, 1e-5)\n",
    "X = np.ones((5, 10))\n",
    "y = lin.forward(X)\n",
    "def func(W):\n",
    "    W_old = lin.W\n",
    "    lin.W = W\n",
    "    y = lin.forward(X).sum()\n",
    "    lin.W = W_old\n",
    "    return y\n",
    "\n",
    "dLdy = np.ones((5, 2))\n",
    "W = lin.W\n",
    "lin.backward(dLdy)\n",
    "gradient = lin.dLdW\n",
    "check_gradient(func, W, gradient)"
   ]
  },
  {
   "cell_type": "markdown",
   "metadata": {},
   "source": [
    "Проверка $\\frac{\\partial L}{\\partial x}$"
   ]
  },
  {
   "cell_type": "code",
   "execution_count": 25,
   "metadata": {},
   "outputs": [
    {
     "name": "stdout",
     "output_type": "stream",
     "text": [
      "1.0723213983432345e-10\n"
     ]
    }
   ],
   "source": [
    "X = np.ones((5, 10))\n",
    "s = Sigmoid()\n",
    "def func(X):\n",
    "    return s.forward(X).sum()\n",
    "\n",
    "dLdy = np.ones((5, 10))\n",
    "s.forward(X)\n",
    "gradient = s.backward(dLdy)\n",
    "check_gradient(func, X, gradient)"
   ]
  },
  {
   "cell_type": "markdown",
   "metadata": {},
   "source": [
    "Проверка $\\frac{\\partial L}{\\partial x}$"
   ]
  },
  {
   "cell_type": "code",
   "execution_count": 26,
   "metadata": {},
   "outputs": [
    {
     "name": "stdout",
     "output_type": "stream",
     "text": [
      "1.3695433676019775e-11\n"
     ]
    }
   ],
   "source": [
    "X = np.random.rand(15, 4)\n",
    "y = np.random.randint(0, 4, 15)\n",
    "loss = NLLLoss(1e-5)\n",
    "loss.forward(X, y, [])\n",
    "func = lambda x: loss.forward(x, y, [])\n",
    "check_gradient(func, X, loss.backward())"
   ]
  },
  {
   "cell_type": "markdown",
   "metadata": {},
   "source": [
    "# I"
   ]
  },
  {
   "cell_type": "code",
   "execution_count": 33,
   "metadata": {},
   "outputs": [],
   "source": [
    "def train_(nn, Xtrain, Ytrain, Xdev, Ydev, learning_rate, num_epochs, batch_size, alpha):\n",
    "    train_loss = []\n",
    "    train_acc = []\n",
    "    dev_loss = []\n",
    "    dev_acc = []\n",
    "    \n",
    "    for epoch in range(num_epochs):\n",
    "        nll = NLLLoss(alpha)\n",
    "        combined = list(zip(Xtrain, Ytrain))\n",
    "        random.shuffle(combined)\n",
    "\n",
    "        Xtrain_shuf, Ytrain_shuf = zip(*combined)\n",
    "        Xtrain_shuf = np.array(Xtrain_shuf)\n",
    "        Ytrain_shuf = np.array(Ytrain_shuf)\n",
    "        \n",
    "        combined = list(zip(Xdev, Ydev))\n",
    "        random.shuffle(combined)\n",
    "\n",
    "        Xdev_shuf, Ydev_shuf = zip(*combined)\n",
    "        Xdev_shuf = np.array(Xdev_shuf)\n",
    "        Ydev_shuf = np.array(Ydev_shuf)\n",
    "        \n",
    "        losses = []\n",
    "        accs = []\n",
    "        for idx in range(0, len(Xtrain_shuf), batch_size):\n",
    "            y_, modules = nn.forward(Xtrain_shuf[idx:idx+batch_size])\n",
    "            \n",
    "            loss = nll.forward(y_, Ytrain_shuf[idx:idx+batch_size], modules)\n",
    "            acc = np.mean(np.argmax(y_, axis=1) == Ytrain_shuf[idx:idx+batch_size])\n",
    "                 \n",
    "            accs.append(acc)\n",
    "            losses.append(loss)\n",
    "                \n",
    "            dLdy = nll.backward()\n",
    "            \n",
    "            nn.backward(dLdy)\n",
    "            nn.step(learning_rate)\n",
    "        \n",
    "        train_loss.append(np.mean(losses))\n",
    "        train_acc.append(np.mean(accs))\n",
    "        \n",
    "        losses = []\n",
    "        accs = []\n",
    "        for idx in range(0, len(Xdev_shuf), batch_size):\n",
    "            y_, modules = nn.forward(Xdev_shuf[idx:idx+batch_size])\n",
    "            \n",
    "            acc = np.mean(np.argmax(y_, axis=1) == Ydev_shuf[idx:idx+batch_size])\n",
    "            loss = nll.forward(y_, Ydev_shuf[idx:idx+batch_size], modules)\n",
    "                        \n",
    "            accs.append(acc)\n",
    "            losses.append(loss)\n",
    "                \n",
    "        dev_loss.append(np.mean(losses))\n",
    "        dev_acc.append(np.mean(accs))\n",
    "        \n",
    "        sys.stdout.write('\\rEpoch {0}... (Train/Test) NLL: {1:.3f}/{2:.3f}\\tAccuracy: {3:.3f}/{4:.3f}'.format(\n",
    "                        epoch, train_loss[-1], dev_loss[-1],\n",
    "                        train_acc[-1], dev_acc[-1]))\n",
    "    return train_loss, train_acc, dev_loss, dev_acc"
   ]
  },
  {
   "cell_type": "code",
   "execution_count": 34,
   "metadata": {},
   "outputs": [],
   "source": [
    "def plot_res(train_loss, train_acc, dev_loss, dev_acc):\n",
    "    plt.figure(figsize=(12, 5))\n",
    "    plt.subplot(1, 2, 1)\n",
    "    plt.plot(train_loss, label='Train')\n",
    "    plt.plot(dev_loss, label='Test')\n",
    "    plt.xlabel('Epochs', fontsize=16)\n",
    "    plt.ylabel('Loss', fontsize=16)\n",
    "    plt.legend(loc=0, fontsize=16)\n",
    "    plt.grid(True)\n",
    "    plt.subplot(1, 2, 2)\n",
    "    plt.plot(train_acc, label='Train accuracy')\n",
    "    plt.plot(dev_acc, label='Test accuracy')\n",
    "    plt.xlabel('Epochs', fontsize=16)\n",
    "    plt.ylabel('Loss', fontsize=16)\n",
    "    plt.legend(loc=0, fontsize=16)\n",
    "    plt.grid(True)\n",
    "    plt.show()"
   ]
  },
  {
   "cell_type": "markdown",
   "metadata": {},
   "source": [
    "# J"
   ]
  },
  {
   "cell_type": "code",
   "execution_count": 35,
   "metadata": {},
   "outputs": [],
   "source": [
    "combined = list(zip(vecs_train_texts, y_train))\n",
    "random.shuffle(combined)\n",
    "\n",
    "X_tmp, Y_tmp = zip(*combined)\n",
    "X_mbatch = np.array(X_tmp)[:100]\n",
    "Y_mbatch = np.array(Y_tmp)[:100]"
   ]
  },
  {
   "cell_type": "code",
   "execution_count": 36,
   "metadata": {},
   "outputs": [],
   "source": [
    "alpha = 1e-5\n",
    "nn = NeuralNetwork([\n",
    "    Linear(300, 2, alpha),\n",
    "])"
   ]
  },
  {
   "cell_type": "code",
   "execution_count": 37,
   "metadata": {},
   "outputs": [
    {
     "name": "stdout",
     "output_type": "stream",
     "text": [
      "Epoch 999... (Train/Test) NLL: 0.104/0.104\tAccuracy: 1.000/1.000Wall time: 1.95 s\n"
     ]
    }
   ],
   "source": [
    "%%time\n",
    "train_loss, train_acc, dev_loss, dev_acc = train_(nn, X_mbatch, Y_mbatch, \n",
    "                                                  X_mbatch, Y_mbatch, \n",
    "                                                  1, 1000, 100, alpha)"
   ]
  },
  {
   "cell_type": "code",
   "execution_count": 38,
   "metadata": {},
   "outputs": [
    {
     "data": {
      "image/png": "[encoded data removed]",
      "text/plain": [
       "<Figure size 864x360 with 2 Axes>"
      ]
     },
     "metadata": {
      "needs_background": "light"
     },
     "output_type": "display_data"
    }
   ],
   "source": [
    "plot_res(train_loss, train_acc, dev_loss, dev_acc)"
   ]
  },
  {
   "cell_type": "markdown",
   "metadata": {},
   "source": [
    "# K"
   ]
  },
  {
   "cell_type": "code",
   "execution_count": 39,
   "metadata": {},
   "outputs": [],
   "source": [
    "alpha = 1e-5\n",
    "nn = NeuralNetwork([\n",
    "    Linear(300, 100, alpha),\n",
    "    ReLU(),\n",
    "    Linear(100, 2, alpha),\n",
    "])"
   ]
  },
  {
   "cell_type": "code",
   "execution_count": 40,
   "metadata": {},
   "outputs": [
    {
     "name": "stdout",
     "output_type": "stream",
     "text": [
      "Epoch 149... (Train/Test) NLL: 0.369/0.374\tAccuracy: 0.841/0.835Wall time: 1min 58s\n"
     ]
    }
   ],
   "source": [
    "%%time\n",
    "train_loss, train_acc, dev_loss, dev_acc = train_(nn, vecs_train_texts, y_train, \n",
    "                                                  vecs_dev_texts, y_dev, \n",
    "                                                  1e-2, 150, 128, alpha)"
   ]
  },
  {
   "cell_type": "code",
   "execution_count": 41,
   "metadata": {},
   "outputs": [
    {
     "data": {
      "image/png": "[encoded data removed]",
      "text/plain": [
       "<Figure size 864x360 with 2 Axes>"
      ]
     },
     "metadata": {
      "needs_background": "light"
     },
     "output_type": "display_data"
    },
    {
     "name": "stdout",
     "output_type": "stream",
     "text": [
      "0.835578762755102 146\n"
     ]
    }
   ],
   "source": [
    "plot_res(train_loss, train_acc, dev_loss, dev_acc)\n",
    "print(max(dev_acc), np.argmax(dev_acc))"
   ]
  },
  {
   "cell_type": "markdown",
   "metadata": {},
   "source": [
    "# L"
   ]
  },
  {
   "cell_type": "markdown",
   "metadata": {},
   "source": [
    "См. исследовательскую часть"
   ]
  },
  {
   "cell_type": "markdown",
   "metadata": {},
   "source": [
    "# M"
   ]
  },
  {
   "cell_type": "code",
   "execution_count": 42,
   "metadata": {},
   "outputs": [],
   "source": [
    "alpha = 1e-3\n",
    "nn = NeuralNetwork([\n",
    "    Linear(300, 100, alpha),\n",
    "    ReLU(),\n",
    "    Linear(100, 2, alpha),\n",
    "])"
   ]
  },
  {
   "cell_type": "code",
   "execution_count": 43,
   "metadata": {},
   "outputs": [
    {
     "name": "stdout",
     "output_type": "stream",
     "text": [
      "Epoch 149... (Train/Test) NLL: 0.521/0.527\tAccuracy: 0.839/0.833Wall time: 2min 26s\n"
     ]
    }
   ],
   "source": [
    "%%time\n",
    "train_loss, train_acc, dev_loss, dev_acc = train_(nn, vecs_train_texts, y_train, \n",
    "                                                  vecs_dev_texts, y_dev, \n",
    "                                                  0.01, 150, 128, alpha)"
   ]
  },
  {
   "cell_type": "code",
   "execution_count": 44,
   "metadata": {},
   "outputs": [
    {
     "data": {
      "image/png": "[encoded data removed]",
      "text/plain": [
       "<Figure size 864x360 with 2 Axes>"
      ]
     },
     "metadata": {
      "needs_background": "light"
     },
     "output_type": "display_data"
    },
    {
     "name": "stdout",
     "output_type": "stream",
     "text": [
      "0.8360411352040815 147\n"
     ]
    }
   ],
   "source": [
    "plot_res(train_loss, train_acc, dev_loss, dev_acc)\n",
    "print(max(dev_acc), np.argmax(dev_acc))"
   ]
  },
  {
   "cell_type": "code",
   "execution_count": null,
   "metadata": {},
   "outputs": [],
   "source": []
  },
  {
   "cell_type": "code",
   "execution_count": null,
   "metadata": {},
   "outputs": [],
   "source": []
  }
 ],
 "metadata": {
  "kernelspec": {
   "display_name": "Python 3",
   "language": "python",
   "name": "python3"
  },
  "language_info": {
   "codemirror_mode": {
    "name": "ipython",
    "version": 3
   },
   "file_extension": ".py",
   "mimetype": "text/x-python",
   "name": "python",
   "nbconvert_exporter": "python",
   "pygments_lexer": "ipython3",
   "version": "3.6.6"
  }
 },
 "nbformat": 4,
 "nbformat_minor": 2
}
