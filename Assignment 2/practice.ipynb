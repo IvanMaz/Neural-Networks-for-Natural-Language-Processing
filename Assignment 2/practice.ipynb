{
 "cells": [
  {
   "cell_type": "code",
   "execution_count": 1,
   "metadata": {},
   "outputs": [],
   "source": [
    "import random\n",
    "import os\n",
    "import re\n",
    "import numpy as np\n",
    "from time import time\n",
    "from tqdm import tqdm_notebook\n",
    "from scipy.sparse import csr_matrix, hstack, issparse, coo_matrix\n",
    "from string import punctuation\n",
    "from collections import defaultdict, Counter\n",
    "from copy import deepcopy\n",
    "import matplotlib.pyplot as plt"
   ]
  },
  {
   "cell_type": "markdown",
   "metadata": {},
   "source": [
    "Загружаем данные. У нас есть три выборки: обучающая (train), валидационная (dev) и тестовая (test). На валидационной выборке тестируем классификатор и подбираем гиперпараметры. Результаты работы классификатора на тестовой выборке проверяются на сервере СompAI, метки для нее не предоставляются."
   ]
  },
  {
   "cell_type": "code",
   "execution_count": 2,
   "metadata": {},
   "outputs": [],
   "source": [
    "data_dir = '../FILIMDB'"
   ]
  },
  {
   "cell_type": "code",
   "execution_count": 3,
   "metadata": {},
   "outputs": [],
   "source": [
    "def load_data(file_name):\n",
    "    \"\"\"\n",
    "    Reads specified file, returns list of strings\n",
    "    :param file_name: file name in data_dir folder\n",
    "    :returns list of strings\n",
    "    \"\"\"\n",
    "    print('Loading %s' % file_name)\n",
    "    data_path = os.path.join(data_dir, file_name)\n",
    "    with open(data_path, 'r', encoding='utf8') as input_data:\n",
    "        lines = input_data.readlines()\n",
    "        lines = [l.strip() for l in lines]\n",
    "    \n",
    "    print('Loaded %d lines' % len(lines))\n",
    "    return lines"
   ]
  },
  {
   "cell_type": "code",
   "execution_count": 4,
   "metadata": {},
   "outputs": [
    {
     "name": "stdout",
     "output_type": "stream",
     "text": [
      "Loading train.texts\n",
      "Loaded 25000 lines\n",
      "Loading train.labels\n",
      "Loaded 25000 lines\n",
      "Loading dev.texts\n",
      "Loaded 25000 lines\n",
      "Loading dev.labels\n",
      "Loaded 25000 lines\n",
      "Loading test.texts\n",
      "Loaded 10599 lines\n"
     ]
    }
   ],
   "source": [
    "train_texts, train_labels = load_data('train.texts'), load_data('train.labels')\n",
    "dev_texts, dev_labels = load_data('dev.texts'), load_data('dev.labels')\n",
    "test_texts = load_data('test.texts')"
   ]
  },
  {
   "cell_type": "markdown",
   "metadata": {},
   "source": [
    "Посмотрим, какие символы встречаются у нас в текстах, выберем из них те, которые мы хотим оставить"
   ]
  },
  {
   "cell_type": "code",
   "execution_count": 5,
   "metadata": {},
   "outputs": [
    {
     "name": "stdout",
     "output_type": "stream",
     "text": [
      "\b\t\u0010 !\"#$%&'()*+,-./0123456789:;<=>?@ABCDEFGHIJKLMNOPQRSTUVWXYZ[\\]^_`abcdefghijklmnopqrstuvwxyz{|}~",
      " ¡¢£¤¦§¨«­®°³´·º»½¾¿ÀÁÃÄÅÈÉÊÕØÜßàáâãäåæçèéêëìíîïðñòóôöøùúûüýō–‘’“”…₤\n"
     ]
    }
   ],
   "source": [
    "char_set = set(ch for review in train_texts for ch in review)\n",
    "sorted_chars = sorted(list(char_set))\n",
    "print(''.join(sorted_chars))"
   ]
  },
  {
   "cell_type": "markdown",
   "metadata": {},
   "source": [
    "### A "
   ]
  },
  {
   "cell_type": "code",
   "execution_count": 6,
   "metadata": {},
   "outputs": [],
   "source": [
    "def tokenize(text):\n",
    "    \"\"\"\n",
    "    Preprocesses text and split it into the list of words\n",
    "    :param: text(str): movie review\n",
    "    \"\"\"\n",
    "    # YOUR CODE HERE\n",
    "    return re.findall('[\\w]+', text.lower())\n",
    "\n",
    "def get_ngrams(tokens, ngram_range):\n",
    "    return [\" \".join(tokens[idx:idx+i]) \n",
    "            for i in range(ngram_range[0],ngram_range[1]+1) \n",
    "            for idx in range(len(tokens)-i+1)]\n",
    "\n",
    "def get_tokens(texts, ngram_range=(1,1)):\n",
    "    return [get_ngrams(tokenize(r), ngram_range) for r in texts]\n",
    "\n",
    "ngram_range = (1, 1)\n",
    "tokenized_train_texts = get_tokens(train_texts, ngram_range)\n",
    "tokenized_dev_texts = get_tokens(dev_texts, ngram_range)\n",
    "tokenized_test_texts = get_tokens(test_texts, ngram_range)"
   ]
  },
  {
   "cell_type": "markdown",
   "metadata": {},
   "source": [
    "Составим словарь из наиболее часто встречающихся в отзывах слов. Может быть полезно удалить из словаря стоп-слова - самые частые слова языка, не несущие важной информации для классификации (например \"you\", \"the\", \"i\" ...). Слова, не вошедшие в словарь, будем обозначать специальным символом \"UNK\"\n",
    "\n",
    "Количество слов в словаре - важный гиперпараметр классификатора."
   ]
  },
  {
   "cell_type": "markdown",
   "metadata": {},
   "source": [
    "### B \n",
    "**Вопрос 1:** Чему равен размер получившегося словаря?"
   ]
  },
  {
   "cell_type": "code",
   "execution_count": 7,
   "metadata": {},
   "outputs": [
    {
     "name": "stdout",
     "output_type": "stream",
     "text": [
      "Ответ 1: размер словаря - 74739\n"
     ]
    }
   ],
   "source": [
    "def get_vocab():\n",
    "    with open(\"../stopwords.txt\", \"r\") as f:\n",
    "        STOPWORDS = map(lambda x: x.strip(), f.readlines())\n",
    "\n",
    "    STOPWORDS = set(STOPWORDS)\n",
    "\n",
    "    vocab = []\n",
    "\n",
    "    for txt in tokenized_train_texts:\n",
    "        vocab.extend([w for w in txt if w not in STOPWORDS])\n",
    "\n",
    "    vocab = set(vocab) # for faster searching\n",
    "    print('1. Ответ 1: размер словаря - %d' % len(vocab))\n",
    "    return vocab\n",
    "vocab = get_vocab()"
   ]
  },
  {
   "cell_type": "markdown",
   "metadata": {},
   "source": [
    "### C "
   ]
  },
  {
   "cell_type": "code",
   "execution_count": 8,
   "metadata": {},
   "outputs": [
    {
     "data": {
      "application/vnd.jupyter.widget-view+json": {
       "model_id": "000d0f00365d45c7bc7ac8e0dfcbe3c6",
       "version_major": 2,
       "version_minor": 0
      },
      "text/plain": [
       "HBox(children=(IntProgress(value=0, max=25000), HTML(value='')))"
      ]
     },
     "metadata": {},
     "output_type": "display_data"
    },
    {
     "name": "stdout",
     "output_type": "stream",
     "text": [
      "\n"
     ]
    },
    {
     "data": {
      "application/vnd.jupyter.widget-view+json": {
       "model_id": "e0f3b2d9e5c14fec83e2aa64e23572c5",
       "version_major": 2,
       "version_minor": 0
      },
      "text/plain": [
       "HBox(children=(IntProgress(value=0, max=25000), HTML(value='')))"
      ]
     },
     "metadata": {},
     "output_type": "display_data"
    },
    {
     "name": "stdout",
     "output_type": "stream",
     "text": [
      "\n"
     ]
    }
   ],
   "source": [
    "def get_matrix():\n",
    "    indptr = [0]\n",
    "    indices = []\n",
    "    data = []\n",
    "    vocabulary = {}\n",
    "    for d in tqdm_notebook(tokenized_train_texts):\n",
    "        for term in d:\n",
    "            if term in vocab:\n",
    "                index = vocabulary.setdefault(term, len(vocabulary))\n",
    "                indices.append(index)\n",
    "                data.append(1)\n",
    "        indptr.append(len(indices))\n",
    "\n",
    "    X_train = csr_matrix((data, indices, indptr), dtype=int)\n",
    "\n",
    "    indptr = [0]\n",
    "    indices = []\n",
    "    data = []\n",
    "    for d in tqdm_notebook(tokenized_dev_texts):\n",
    "        for term in d:\n",
    "            if term in vocab:\n",
    "                index = vocabulary.setdefault(term, len(vocabulary))\n",
    "                indices.append(index)\n",
    "                data.append(1)\n",
    "        indptr.append(len(indices))\n",
    "\n",
    "    X_dev = csr_matrix((data, indices, indptr), shape=X_train.shape, dtype=int)\n",
    "    \n",
    "    return X_train, X_dev, vocabulary\n",
    "X_train, X_dev, vocabulary = get_matrix()"
   ]
  },
  {
   "cell_type": "code",
   "execution_count": 9,
   "metadata": {},
   "outputs": [],
   "source": [
    "y_train = np.array([(lambda l: 1 if l=='pos' else 0)(l) for l in train_labels])\n",
    "y_dev = np.array([(lambda l: 1 if l=='pos' else 0)(l) for l in dev_labels])"
   ]
  },
  {
   "cell_type": "code",
   "execution_count": 10,
   "metadata": {},
   "outputs": [
    {
     "data": {
      "text/plain": [
       "((25000, 74739), 25000)"
      ]
     },
     "execution_count": 10,
     "metadata": {},
     "output_type": "execute_result"
    }
   ],
   "source": [
    "X_train.shape, y_train.size"
   ]
  },
  {
   "cell_type": "markdown",
   "metadata": {},
   "source": [
    "## D\n",
    "**Вопрос 2:** Во сколько раз  медленнее считается оценочная функция, если реализовать суммирование с помощью цикла?"
   ]
  },
  {
   "cell_type": "code",
   "execution_count": 72,
   "metadata": {},
   "outputs": [],
   "source": [
    "class LogReg:\n",
    "    def __init__(self, lr=1e-3, C=1e-3, epochs=1000):\n",
    "        self.lr = lr\n",
    "        self.C = C\n",
    "        self.epochs = epochs\n",
    "        \n",
    "        self.sparse = False\n",
    "        self.train_losses = []\n",
    "        self.test_losses = []\n",
    "        self.train_acc = []\n",
    "        self.test_acc = []        \n",
    "        \n",
    "    def __sigmoid(self, z): \n",
    "        return 1./(1+np.exp(-z))\n",
    "    \n",
    "    def __init_weights(self):\n",
    "        self.w = np.zeros(self.n_features+1)\n",
    "        self.m = np.zeros(self.n_features+1)\n",
    "        self.v = np.zeros(self.n_features+1)\n",
    "    \n",
    "    def __h(self, x):\n",
    "        return self.__sigmoid(x)\n",
    "    \n",
    "    def __loss(self, h, y):\n",
    "        return -(y*np.log(h+1e-8)+(1-y)*np.log(1-h+1e-8)).mean() + (self.C*self.w**2).sum()\n",
    "    \n",
    "    def __loss_slow(self, h, y):\n",
    "        s = 0\n",
    "        s2 = 0\n",
    "        L = -(y*np.log(h+1e-8)+(1-y)*np.log(1-h+1e-8))\n",
    "        L2 = (self.C*self.w**2)\n",
    "        for n in L:\n",
    "            s += n\n",
    "        s /= len(L)\n",
    "        for n in L2:\n",
    "            s2 += n\n",
    "        return s + s2\n",
    "    \n",
    "    def __grad(self, X, h, y):\n",
    "        self.gradient = X.T.dot(h-y)/y.size + 2*self.C*self.w\n",
    "    \n",
    "    def __step(self):\n",
    "        self.w -= self.lr*self.gradient\n",
    "        \n",
    "        \n",
    "    def fit(self, X_train, y_train, X_test, y_test):\n",
    "        start = time()\n",
    "        self.n_samples, self.n_features = X_train.shape\n",
    "        if issparse(X_train):\n",
    "            self.sparse = True\n",
    "        if self.sparse:\n",
    "            X_train = hstack([np.ones((self.n_samples, 1)), X_train])\n",
    "            X_test = hstack([np.ones((self.n_samples, 1)), X_test])\n",
    "            #X = hstack((X,np.ones(self.n_samples)[:,None]))\n",
    "        else:\n",
    "            X_train = np.concatenate((np.ones((self.n_samples, 1)), X_train), axis=1)\n",
    "            X_test = np.concatenate((np.ones((self.n_samples, 1)), X_test), axis=1)\n",
    "        \n",
    "        self.__init_weights()\n",
    "        for i in tqdm_notebook(range(self.epochs)):\n",
    "            z = X_train.dot(self.w)\n",
    "            h = self.__sigmoid(z)\n",
    "            self.__grad(X_train, h, y_train)\n",
    "            self.__step()\n",
    "            \n",
    "            if(i % 1000 == 0):\n",
    "            #print(f'loss: {self.__loss(z, y)} \\t')\n",
    "                self.train_losses.append(self.__loss(h, y_train))\n",
    "                self.train_acc.append((y_train == h.round()).mean())\n",
    "            \n",
    "                z = X_test.dot(self.w)\n",
    "                h = self.__sigmoid(z)\n",
    "                self.test_losses.append(self.__loss(h, y_test))\n",
    "                self.test_acc.append((y_test == h.round()).mean())\n",
    "        \n",
    "        t = time() - start\n",
    "        print('Модель обучилась за %d минут и %d секунд' %(t//60, t%60))\n",
    "    \n",
    "    def compare(self, X_train, y_train):\n",
    "        self.n_samples, self.n_features = X_train.shape\n",
    "        X_train = hstack([np.ones((self.n_samples, 1)), X_train])\n",
    "        self.__init_weights()\n",
    "        z = X_train.dot(self.w)\n",
    "        h = self.__sigmoid(z)\n",
    "        \n",
    "        start = time()\n",
    "        for i in range(100):\n",
    "            self.__loss(h, y_train)\n",
    "        fast = time() - start\n",
    "        \n",
    "        start = time()\n",
    "        for i in range(100):\n",
    "            self.__loss_slow(h, y_train)\n",
    "        slow = time() - start\n",
    "        \n",
    "        print(\"2. Ответ: Матричные операции для функции потерь быстрее в  %f раз\" %(slow/fast))\n",
    "        \n",
    "        \n",
    "    def predict_prob(self, X):\n",
    "        self.n_samples, self.n_features = X.shape\n",
    "        if issparse(X):\n",
    "            self.sparse = True\n",
    "        if self.sparse:\n",
    "            X = hstack([np.ones((self.n_samples, 1)), X])\n",
    "    \n",
    "        return self.__sigmoid(X.dot(self.w))\n",
    "    \n",
    "    def predict(self, X):\n",
    "        return self.predict_prob(X).round()\n",
    "    \n",
    "    def score(self, X, y):\n",
    "        return (y == self.predict(X)).mean()"
   ]
  },
  {
   "cell_type": "code",
   "execution_count": 73,
   "metadata": {},
   "outputs": [],
   "source": [
    "def plot(model):\n",
    "    plt.figure(figsize=(12, 5))\n",
    "    plt.subplot(1, 2, 1)\n",
    "    plt.plot(model.train_losses, label='Train')\n",
    "    plt.plot(model.test_losses, label='Test')\n",
    "    plt.xlabel('Epochs', fontsize=16)\n",
    "    plt.ylabel('Loss', fontsize=16)\n",
    "    plt.legend(loc=0, fontsize=16)\n",
    "    plt.grid()\n",
    "    plt.subplot(1, 2, 2)\n",
    "    plt.plot(model.train_acc, label='Train accuracy')\n",
    "    plt.plot(model.test_acc, label='Test accuracy')\n",
    "    plt.xlabel('Epochs', fontsize=16)\n",
    "    plt.ylabel('Accuracy', fontsize=16)\n",
    "    plt.legend(loc=0, fontsize=16)\n",
    "    plt.ylim(0.8, 1.0)\n",
    "    plt.grid()\n",
    "    plt.show()"
   ]
  },
  {
   "cell_type": "code",
   "execution_count": 74,
   "metadata": {},
   "outputs": [
    {
     "name": "stdout",
     "output_type": "stream",
     "text": [
      "2. Ответ: Матричные операции для функции потерь быстрее в  16.372434 раз\n"
     ]
    }
   ],
   "source": [
    "model = LogReg(lr=1e-3, C=1e-5, epochs=10000)\n",
    "model.compare(X_train, y_train)"
   ]
  },
  {
   "cell_type": "markdown",
   "metadata": {},
   "source": [
    "## E\n",
    "**Вопрос 3:** Через сколько эпох обучение сходится (оценочная функция перестает меняться)? Приведите графики для нескольких различных значений learning rate. Какие выводы можно сдеать относительно зависимости процесса обучения от learnig rate? \n",
    "\n",
    "**Вопрос 4:** Какой точности классификатора вам удалось достичь на обучающей и тестовой выборке? Имеет ли место переобучение классификатора или недообучение? Что нужно сделать с α, чтобы улучшить результат?"
   ]
  },
  {
   "cell_type": "code",
   "execution_count": 75,
   "metadata": {},
   "outputs": [
    {
     "data": {
      "application/vnd.jupyter.widget-view+json": {
       "model_id": "c81e7f9eca18408ab9bd49d3f5840fe8",
       "version_major": 2,
       "version_minor": 0
      },
      "text/plain": [
       "HBox(children=(IntProgress(value=0, max=30000), HTML(value='')))"
      ]
     },
     "metadata": {},
     "output_type": "display_data"
    },
    {
     "name": "stdout",
     "output_type": "stream",
     "text": [
      "\n",
      "Модель обучилась за 10 минут и 54 секунд\n"
     ]
    },
    {
     "data": {
      "image/png": "[encoded data removed]",
      "text/plain": [
       "<Figure size 864x360 with 2 Axes>"
      ]
     },
     "metadata": {
      "needs_background": "light"
     },
     "output_type": "display_data"
    },
    {
     "name": "stdout",
     "output_type": "stream",
     "text": [
      "Params: lr - 1E-02, alpha - 1E-05\n",
      "Score: train - 0.929720, test - 0.882640\n"
     ]
    },
    {
     "data": {
      "application/vnd.jupyter.widget-view+json": {
       "model_id": "66b5c557483f46b0bfa71d0a60bb9f3c",
       "version_major": 2,
       "version_minor": 0
      },
      "text/plain": [
       "HBox(children=(IntProgress(value=0, max=30000), HTML(value='')))"
      ]
     },
     "metadata": {},
     "output_type": "display_data"
    },
    {
     "name": "stdout",
     "output_type": "stream",
     "text": [
      "\n",
      "Модель обучилась за 11 минут и 1 секунд\n"
     ]
    },
    {
     "data": {
      "image/png": "[encoded data removed]",
      "text/plain": [
       "<Figure size 864x360 with 2 Axes>"
      ]
     },
     "metadata": {
      "needs_background": "light"
     },
     "output_type": "display_data"
    },
    {
     "name": "stdout",
     "output_type": "stream",
     "text": [
      "Params: lr - 1E-03, alpha - 1E-05\n",
      "Score: train - 0.870200, test - 0.855240\n"
     ]
    }
   ],
   "source": [
    "for lr in [1e-2, 1e-3]:\n",
    "    for alpha in [1e-5]:\n",
    "        model = LogReg(lr=lr, C=alpha, epochs=30000)\n",
    "        model.fit(X_train, y_train, X_dev, y_dev)\n",
    "        plot(model)\n",
    "        print(\"Params: lr - %.0E, alpha - %.0E\" %(lr, alpha))\n",
    "        print('Score: train - %f, test - %f' %(model.score(X_train, y_train), model.score(X_dev, y_dev)))"
   ]
  },
  {
   "cell_type": "markdown",
   "metadata": {},
   "source": [
    "3. Ответ: Обучение не сходится и после 30000 итераций. Вывод: чем меньше lr, тем быстрее сходимость\n",
    "4. Ответ: при таких параметрах была достигнута точность в 0.92 на обучающей и 0.88 на тестовой выборках. Имеент место недообучение классификатора. Для улучшения качества надо увеличить alpha и число итераций"
   ]
  },
  {
   "cell_type": "markdown",
   "metadata": {},
   "source": [
    "## F\n",
    "**Вопрос 5:** Чему равно оптимальное значение α?"
   ]
  },
  {
   "cell_type": "markdown",
   "metadata": {},
   "source": [
    "5. Ответ: графики подбора alpha есть в исследовательской части. При небольшом числе итераций лучшим оказалось значение 1e-3, при большом - 1e-5"
   ]
  },
  {
   "cell_type": "markdown",
   "metadata": {},
   "source": [
    "## G\n",
    "**Вопрос 6:** Оцените чему равна точность классификатора на обучающей и тестовой выборке? \n",
    "\n",
    "**Вопрос 7:** Сколько времени занимает обучение классификатора и предсказание результатов для тестовой выборке?"
   ]
  },
  {
   "cell_type": "markdown",
   "metadata": {},
   "source": [
    "6. Ответ: точность на обучающей - 0.92, на тестовой - 0.88"
   ]
  },
  {
   "cell_type": "code",
   "execution_count": 77,
   "metadata": {},
   "outputs": [
    {
     "name": "stdout",
     "output_type": "stream",
     "text": [
      "Wall time: 84.7 ms\n"
     ]
    },
    {
     "data": {
      "text/plain": [
       "array([0., 1., 1., ..., 0., 0., 1.])"
      ]
     },
     "execution_count": 77,
     "metadata": {},
     "output_type": "execute_result"
    }
   ],
   "source": [
    "%time model.predict(X_dev)"
   ]
  },
  {
   "cell_type": "markdown",
   "metadata": {},
   "source": [
    "7. Ответ: обучение занимает 11 минут, предсказание занимает 85 милисекунд"
   ]
  },
  {
   "cell_type": "markdown",
   "metadata": {},
   "source": [
    "## H\n",
    "**Вопрос 8:** Распечатайте 20 наиболее весомых признаков для позитивного и негативного класса."
   ]
  },
  {
   "cell_type": "code",
   "execution_count": 78,
   "metadata": {},
   "outputs": [],
   "source": [
    "pos_words = list(reversed(model.w.argsort()[-15:]))\n",
    "neg_words = model.w.argsort()[:15]\n",
    "inversed_vocabulary = {v:k for k,v in vocabulary.items()}"
   ]
  },
  {
   "cell_type": "markdown",
   "metadata": {},
   "source": [
    "8. Ответ: самые позитивные"
   ]
  },
  {
   "cell_type": "code",
   "execution_count": 79,
   "metadata": {},
   "outputs": [
    {
     "name": "stdout",
     "output_type": "stream",
     "text": [
      "adopted\n",
      "10\n",
      "donna\n",
      "comic\n",
      "later\n",
      "sublime\n",
      "heard\n",
      "illnesses\n",
      "mom\n",
      "entertained\n",
      "accused\n",
      "summer\n",
      "total\n",
      "appreciate\n",
      "dramatic\n"
     ]
    }
   ],
   "source": [
    "for p in pos_words:\n",
    "    print(inversed_vocabulary[p])"
   ]
  },
  {
   "cell_type": "markdown",
   "metadata": {},
   "source": [
    "8. Ответ: самые негативные"
   ]
  },
  {
   "cell_type": "code",
   "execution_count": 80,
   "metadata": {},
   "outputs": [
    {
     "name": "stdout",
     "output_type": "stream",
     "text": [
      "kate\n",
      "eerie\n",
      "lemon\n",
      "mean\n",
      "dubbing\n",
      "delivering\n",
      "ok\n",
      "studying\n",
      "constructed\n",
      "terminating\n",
      "avoid\n",
      "beginning\n",
      "3\n",
      "realized\n",
      "average\n"
     ]
    }
   ],
   "source": [
    "for n in neg_words:\n",
    "    print(inversed_vocabulary[n])"
   ]
  }
 ],
 "metadata": {
  "kernelspec": {
   "display_name": "Python 3",
   "language": "python",
   "name": "python3"
  },
  "language_info": {
   "codemirror_mode": {
    "name": "ipython",
    "version": 3
   },
   "file_extension": ".py",
   "mimetype": "text/x-python",
   "name": "python",
   "nbconvert_exporter": "python",
   "pygments_lexer": "ipython3",
   "version": "3.6.6"
  }
 },
 "nbformat": 4,
 "nbformat_minor": 2
}
